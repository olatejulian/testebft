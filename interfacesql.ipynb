{
 "metadata": {
  "language_info": {
   "codemirror_mode": {
    "name": "ipython",
    "version": 3
   },
   "file_extension": ".py",
   "mimetype": "text/x-python",
   "name": "python",
   "nbconvert_exporter": "python",
   "pygments_lexer": "ipython3",
   "version": "3.9.2"
  },
  "orig_nbformat": 2,
  "kernelspec": {
   "name": "python392jvsc74a57bd0e7370f93d1d0cde622a1f8e1c04877d8463912d04d973331ad4851f04de6915a",
   "display_name": "Python 3.9.2 64-bit"
  }
 },
 "nbformat": 4,
 "nbformat_minor": 2,
 "cells": [
  {
   "source": [
    "# Notebook para comandos SQL "
   ],
   "cell_type": "markdown",
   "metadata": {}
  },
  {
   "source": [
    "geralmente utilizo o package psycopg2 para me comunicar com o banco de dados postgresql, às vezes utilizo pgadmin4 para melhor visualização dos db e tabelas, mas como utilizo apenas para puxar tabelas do banco de dados para análise de dados, costumo só utilizar python com notebook. "
   ],
   "cell_type": "markdown",
   "metadata": {}
  },
  {
   "cell_type": "code",
   "execution_count": 43,
   "metadata": {},
   "outputs": [],
   "source": [
    "import psycopg2 #package python de interação com banco de dados, referências em: https://www.psycopg.org/docs/ e https://pypi.org/project/psycopg2/\n",
    "from psycopg2.extensions import ISOLATION_LEVEL_AUTOCOMMIT\n",
    "import pandas as pd #mais famoso package de manipulação de dados em python"
   ]
  },
  {
   "cell_type": "code",
   "execution_count": 44,
   "metadata": {},
   "outputs": [],
   "source": [
    "# informações do banco de dados\n",
    "host, port, db, user, password = \"localhost\", 5432, \"dbbft\", \"postgres\", \"1234\""
   ]
  },
  {
   "cell_type": "code",
   "execution_count": 5,
   "metadata": {},
   "outputs": [],
   "source": [
    "#por enquanto, a conexão deve somente acontecer no server\n",
    "conn = psycopg2.connect(user=user, password=password)"
   ]
  },
  {
   "source": [
    "Na execução do objeto psycopg2.connect().cursor().execute() por padrão ele não escreve direto no banco de dados, é necessário chamar o objeto da classe connect(), connect().commit(), para realizar um commit no server postgresql, mas usando ISOLATION_LEVEL_AUTOCOMMIT, o objeto execute() já realiza os comandos dentro do server"
   ],
   "cell_type": "markdown",
   "metadata": {}
  },
  {
   "cell_type": "code",
   "execution_count": 30,
   "metadata": {},
   "outputs": [],
   "source": [
    "conn.set_isolation_level(ISOLATION_LEVEL_AUTOCOMMIT) "
   ]
  },
  {
   "cell_type": "code",
   "execution_count": 31,
   "metadata": {},
   "outputs": [],
   "source": [
    "# a classe cursor permite realizar queries com o banco de dados \n",
    "qry = conn.cursor()"
   ]
  },
  {
   "cell_type": "code",
   "execution_count": 13,
   "metadata": {},
   "outputs": [],
   "source": [
    "qry.execute(\"CREATE DATABASE dbbft\")"
   ]
  },
  {
   "cell_type": "code",
   "execution_count": 32,
   "metadata": {},
   "outputs": [],
   "source": [
    "#se conectando à database\n",
    "conn = psycopg2.connect(host=host, port=port, database=db, user=user, password=password)"
   ]
  },
  {
   "cell_type": "code",
   "execution_count": 33,
   "metadata": {},
   "outputs": [],
   "source": [
    "create_table = \"CREATE TABLE usuarios (id INT GENERATED ALWAYS AS IDENTITY PRIMARY KEY, email TEXT UNIQUE NOT NULL, senha TEXT NOT NULL);\""
   ]
  },
  {
   "cell_type": "code",
   "execution_count": 34,
   "metadata": {},
   "outputs": [],
   "source": [
    "qry.execute(create_table)"
   ]
  },
  {
   "cell_type": "code",
   "execution_count": 35,
   "metadata": {},
   "outputs": [],
   "source": [
    "# adicionando um email, senha na tabela usuários para afins de teste\n",
    "qry.execute(\"INSERT INTO usuarios (email, senha) VALUES ('teste@mail.com', 'abc123');\")"
   ]
  },
  {
   "source": [
    "Para análise de dados é interessante puxar a tabela utilizando pandas para a manipulação"
   ],
   "cell_type": "markdown",
   "metadata": {}
  },
  {
   "cell_type": "code",
   "execution_count": 36,
   "metadata": {},
   "outputs": [],
   "source": [
    "select = \"SELECT * FROM usuarios;\""
   ]
  },
  {
   "cell_type": "code",
   "execution_count": 37,
   "metadata": {},
   "outputs": [
    {
     "output_type": "execute_result",
     "data": {
      "text/plain": [
       "   id           email   senha\n",
       "0   1  teste@mail.com  abc123"
      ],
      "text/html": "<div>\n<style scoped>\n    .dataframe tbody tr th:only-of-type {\n        vertical-align: middle;\n    }\n\n    .dataframe tbody tr th {\n        vertical-align: top;\n    }\n\n    .dataframe thead th {\n        text-align: right;\n    }\n</style>\n<table border=\"1\" class=\"dataframe\">\n  <thead>\n    <tr style=\"text-align: right;\">\n      <th></th>\n      <th>id</th>\n      <th>email</th>\n      <th>senha</th>\n    </tr>\n  </thead>\n  <tbody>\n    <tr>\n      <th>0</th>\n      <td>1</td>\n      <td>teste@mail.com</td>\n      <td>abc123</td>\n    </tr>\n  </tbody>\n</table>\n</div>"
     },
     "metadata": {},
     "execution_count": 37
    }
   ],
   "source": [
    "data = pd.read_sql(select, conn)\n",
    "data"
   ]
  },
  {
   "source": [
    "DB, tabela criadas com sucesso!"
   ],
   "cell_type": "markdown",
   "metadata": {}
  },
  {
   "source": [
    "## Verificando se os dados esttão sendo gravados no DB"
   ],
   "cell_type": "markdown",
   "metadata": {}
  },
  {
   "cell_type": "code",
   "execution_count": 45,
   "metadata": {},
   "outputs": [],
   "source": [
    "host, port, db, user, password = \"localhost\", 5432, \"dbbft\", \"postgres\", \"1234\"\n",
    "conn = psycopg2.connect(host=host, port=port, database=db, user=user, password=password)\n",
    "qry = conn.cursor()\n",
    "select = \"SELECT * FROM usuarios;\"\n",
    "data = pd.read_sql(select, conn)"
   ]
  },
  {
   "cell_type": "code",
   "execution_count": 46,
   "metadata": {},
   "outputs": [
    {
     "output_type": "execute_result",
     "data": {
      "text/plain": [
       "   id             email                             senha\n",
       "0   1    teste@mail.com                            abc123\n",
       "1   3  qwerty@email.com  81dc9bdb52d04dc20036dbd8313ed055"
      ],
      "text/html": "<div>\n<style scoped>\n    .dataframe tbody tr th:only-of-type {\n        vertical-align: middle;\n    }\n\n    .dataframe tbody tr th {\n        vertical-align: top;\n    }\n\n    .dataframe thead th {\n        text-align: right;\n    }\n</style>\n<table border=\"1\" class=\"dataframe\">\n  <thead>\n    <tr style=\"text-align: right;\">\n      <th></th>\n      <th>id</th>\n      <th>email</th>\n      <th>senha</th>\n    </tr>\n  </thead>\n  <tbody>\n    <tr>\n      <th>0</th>\n      <td>1</td>\n      <td>teste@mail.com</td>\n      <td>abc123</td>\n    </tr>\n    <tr>\n      <th>1</th>\n      <td>3</td>\n      <td>qwerty@email.com</td>\n      <td>81dc9bdb52d04dc20036dbd8313ed055</td>\n    </tr>\n  </tbody>\n</table>\n</div>"
     },
     "metadata": {},
     "execution_count": 46
    }
   ],
   "source": [
    "data"
   ]
  },
  {
   "source": [
    "email cadastrado já com senha criptografada"
   ],
   "cell_type": "markdown",
   "metadata": {}
  },
  {
   "source": [
    "## Percebi que esrevi UNIQUE na coluna"
   ],
   "cell_type": "markdown",
   "metadata": {}
  },
  {
   "cell_type": "code",
   "execution_count": 47,
   "metadata": {},
   "outputs": [],
   "source": [
    "alter = \"ALTER TABLE usuarios DROP CONSTRAINT usuarios_senha_key\""
   ]
  },
  {
   "cell_type": "code",
   "execution_count": 48,
   "metadata": {},
   "outputs": [],
   "source": [
    "qry.execute(alter)"
   ]
  },
  {
   "cell_type": "code",
   "execution_count": 49,
   "metadata": {},
   "outputs": [],
   "source": [
    "conn.commit()"
   ]
  },
  {
   "cell_type": "code",
   "execution_count": null,
   "metadata": {},
   "outputs": [],
   "source": []
  }
 ]
}